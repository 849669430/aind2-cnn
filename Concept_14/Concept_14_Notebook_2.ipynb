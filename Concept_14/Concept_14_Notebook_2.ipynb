{
 "cells": [
  {
   "cell_type": "markdown",
   "metadata": {
    "deletable": true,
    "editable": true
   },
   "source": [
    "# Artificial Intelligence Nanodegree\n",
    "\n",
    "## Convolutional Neural Networks\n",
    "\n",
    "## Concept 14: CNNs in Keras: Practical Example (Notebook 2 of 2)\n",
    "\n",
    "---\n",
    "\n",
    "In this notebook, we train a CNN to classify images from the CIFAR-10 database.\n",
    "\n",
    "### 1. Load CIFAR-10 Database"
   ]
  },
  {
   "cell_type": "code",
   "execution_count": 1,
   "metadata": {
    "collapsed": false,
    "deletable": true,
    "editable": true
   },
   "outputs": [
    {
     "name": "stderr",
     "output_type": "stream",
     "text": [
      "Using TensorFlow backend.\n"
     ]
    }
   ],
   "source": [
    "import keras\n",
    "from keras.datasets import cifar10\n",
    "\n",
    "# load the pre-shuffled train and test data\n",
    "(x_train, y_train), (x_test, y_test) = cifar10.load_data()"
   ]
  },
  {
   "cell_type": "markdown",
   "metadata": {},
   "source": [
    "### 2. Visualize the First 24 Training Images"
   ]
  },
  {
   "cell_type": "code",
   "execution_count": null,
   "metadata": {
    "collapsed": true
   },
   "outputs": [],
   "source": [
    "import numpy as np\n",
    "import matplotlib.pyplot as plt\n",
    "%matplotlib inline\n",
    "\n",
    "fig = plt.figure(figsize=(20,5))\n",
    "for i in range(36):\n",
    "    ax = fig.add_subplot(3, 12, i + 1, xticks=[], yticks=[])\n",
    "    ax.imshow(np.squeeze(x_train[i]))"
   ]
  },
  {
   "cell_type": "markdown",
   "metadata": {},
   "source": [
    "### 3. Rescale the Images by Dividing Every Pixel in Every Image by 255"
   ]
  },
  {
   "cell_type": "code",
   "execution_count": null,
   "metadata": {
    "collapsed": true
   },
   "outputs": [],
   "source": [
    "# rescale [0,255] --> [0,1]\n",
    "x_train = x_train.astype('float32')/255\n",
    "x_test = x_test.astype('float32')/255 "
   ]
  },
  {
   "cell_type": "markdown",
   "metadata": {
    "deletable": true,
    "editable": true
   },
   "source": [
    "### 4.  Break Dataset into Training, Testing, and Validation Sets"
   ]
  },
  {
   "cell_type": "code",
   "execution_count": 2,
   "metadata": {
    "collapsed": false,
    "deletable": true,
    "editable": true
   },
   "outputs": [
    {
     "name": "stdout",
     "output_type": "stream",
     "text": [
      "x_train shape: (45000, 32, 32, 3)\n",
      "45000 train samples\n",
      "10000 test samples\n",
      "5000 validation samples\n"
     ]
    }
   ],
   "source": [
    "from keras.utils import np_utils\n",
    "\n",
    "# one-hot encode the labels\n",
    "num_classes = len(np.unique(y_train))\n",
    "y_train = keras.utils.to_categorical(y_train, num_classes)\n",
    "y_test = keras.utils.to_categorical(y_test, num_classes)\n",
    "\n",
    "# break training set into training and validation sets\n",
    "(x_train, x_valid) = x_train[5000:], x_train[:5000]\n",
    "(y_train, y_valid) = y_train[5000:], y_train[:5000]\n",
    "\n",
    "# print shape of training set\n",
    "print('x_train shape:', x_train.shape)\n",
    "\n",
    "# print number of training, validation, and test images\n",
    "print(x_train.shape[0], 'train samples')\n",
    "print(x_test.shape[0], 'test samples')\n",
    "print(x_valid.shape[0], 'validation samples')"
   ]
  },
  {
   "cell_type": "markdown",
   "metadata": {
    "deletable": true,
    "editable": true
   },
   "source": [
    "### 5. Define the Model Architecture "
   ]
  },
  {
   "cell_type": "code",
   "execution_count": 5,
   "metadata": {
    "collapsed": false,
    "deletable": true,
    "editable": true
   },
   "outputs": [
    {
     "name": "stdout",
     "output_type": "stream",
     "text": [
      "_________________________________________________________________\n",
      "Layer (type)                 Output Shape              Param #   \n",
      "=================================================================\n",
      "conv2d_1 (Conv2D)            (None, 32, 32, 16)        208       \n",
      "_________________________________________________________________\n",
      "max_pooling2d_1 (MaxPooling2 (None, 16, 16, 16)        0         \n",
      "_________________________________________________________________\n",
      "conv2d_2 (Conv2D)            (None, 16, 16, 32)        2080      \n",
      "_________________________________________________________________\n",
      "max_pooling2d_2 (MaxPooling2 (None, 8, 8, 32)          0         \n",
      "_________________________________________________________________\n",
      "conv2d_3 (Conv2D)            (None, 8, 8, 64)          8256      \n",
      "_________________________________________________________________\n",
      "max_pooling2d_3 (MaxPooling2 (None, 4, 4, 64)          0         \n",
      "_________________________________________________________________\n",
      "dropout_1 (Dropout)          (None, 4, 4, 64)          0         \n",
      "_________________________________________________________________\n",
      "flatten_1 (Flatten)          (None, 1024)              0         \n",
      "_________________________________________________________________\n",
      "dense_1 (Dense)              (None, 500)               512500    \n",
      "_________________________________________________________________\n",
      "dropout_2 (Dropout)          (None, 500)               0         \n",
      "_________________________________________________________________\n",
      "dense_2 (Dense)              (None, 10)                5010      \n",
      "=================================================================\n",
      "Total params: 528,054.0\n",
      "Trainable params: 528,054.0\n",
      "Non-trainable params: 0.0\n",
      "_________________________________________________________________\n"
     ]
    }
   ],
   "source": [
    "from keras.models import Sequential\n",
    "from keras.layers import Convolution2D, MaxPooling2D, Flatten, Dense, Dropout\n",
    "\n",
    "model = Sequential()\n",
    "model.add(Convolution2D(filters=16, kernel_size=2, padding='same', activation='relu', \n",
    "                        input_shape=(32, 32, 3)))\n",
    "model.add(MaxPooling2D(pool_size=2))\n",
    "model.add(Convolution2D(filters=32, kernel_size=2, padding='same', activation='relu'))\n",
    "model.add(MaxPooling2D(pool_size=2))\n",
    "model.add(Convolution2D(filters=64, kernel_size=2, padding='same', activation='relu'))\n",
    "model.add(MaxPooling2D(pool_size=2))\n",
    "model.add(Dropout(0.3))\n",
    "model.add(Flatten())\n",
    "model.add(Dense(500, activation='relu'))\n",
    "model.add(Dropout(0.4))\n",
    "model.add(Dense(10, activation='softmax'))\n",
    "\n",
    "model.summary()"
   ]
  },
  {
   "cell_type": "markdown",
   "metadata": {
    "deletable": true,
    "editable": true
   },
   "source": [
    "### 6. Compile the Model "
   ]
  },
  {
   "cell_type": "code",
   "execution_count": 6,
   "metadata": {
    "collapsed": true,
    "deletable": true,
    "editable": true
   },
   "outputs": [],
   "source": [
    "# compile the model\n",
    "model.compile(loss='categorical_crossentropy', optimizer='rmsprop', \n",
    "                  metrics=['accuracy'])"
   ]
  },
  {
   "cell_type": "markdown",
   "metadata": {
    "deletable": true,
    "editable": true
   },
   "source": [
    "### 7. Train the Model "
   ]
  },
  {
   "cell_type": "code",
   "execution_count": 7,
   "metadata": {
    "collapsed": false,
    "deletable": true,
    "editable": true
   },
   "outputs": [
    {
     "name": "stdout",
     "output_type": "stream",
     "text": [
      "Train on 45000 samples, validate on 5000 samples\n",
      "Epoch 1/100\n",
      "Epoch 00000: val_loss improved from inf to 1.36928, saving model to model.weights.best.hdf5\n",
      "34s - loss: 1.6157 - acc: 0.4174 - val_loss: 1.3693 - val_acc: 0.5222\n",
      "Epoch 2/100\n",
      "Epoch 00001: val_loss improved from 1.36928 to 1.18588, saving model to model.weights.best.hdf5\n",
      "42s - loss: 1.3105 - acc: 0.5320 - val_loss: 1.1859 - val_acc: 0.5668\n",
      "Epoch 3/100\n",
      "Epoch 00002: val_loss did not improve\n",
      "43s - loss: 1.1903 - acc: 0.5775 - val_loss: 1.2996 - val_acc: 0.5540\n",
      "Epoch 4/100\n",
      "Epoch 00003: val_loss improved from 1.18588 to 1.01608, saving model to model.weights.best.hdf5\n",
      "44s - loss: 1.1191 - acc: 0.6051 - val_loss: 1.0161 - val_acc: 0.6388\n",
      "Epoch 5/100\n",
      "Epoch 00004: val_loss did not improve\n",
      "46s - loss: 1.0708 - acc: 0.6262 - val_loss: 1.0536 - val_acc: 0.6360\n",
      "Epoch 6/100\n",
      "Epoch 00005: val_loss improved from 1.01608 to 0.98549, saving model to model.weights.best.hdf5\n",
      "45s - loss: 1.0390 - acc: 0.6394 - val_loss: 0.9855 - val_acc: 0.6698\n",
      "Epoch 7/100\n",
      "Epoch 00006: val_loss improved from 0.98549 to 0.95616, saving model to model.weights.best.hdf5\n",
      "45s - loss: 1.0179 - acc: 0.6468 - val_loss: 0.9562 - val_acc: 0.6706\n",
      "Epoch 8/100\n",
      "Epoch 00007: val_loss did not improve\n",
      "43s - loss: 1.0011 - acc: 0.6572 - val_loss: 1.0974 - val_acc: 0.6382\n",
      "Epoch 9/100\n",
      "Epoch 00008: val_loss did not improve\n",
      "43s - loss: 0.9994 - acc: 0.6600 - val_loss: 1.1256 - val_acc: 0.6164\n",
      "Epoch 10/100\n",
      "Epoch 00009: val_loss did not improve\n",
      "44s - loss: 1.0009 - acc: 0.6578 - val_loss: 1.1227 - val_acc: 0.6400\n",
      "Epoch 11/100\n",
      "Epoch 00010: val_loss did not improve\n",
      "44s - loss: 1.0050 - acc: 0.6641 - val_loss: 0.9791 - val_acc: 0.6740\n",
      "Epoch 12/100\n",
      "Epoch 00011: val_loss did not improve\n",
      "44s - loss: 1.0135 - acc: 0.6603 - val_loss: 1.0448 - val_acc: 0.6456\n",
      "Epoch 13/100\n",
      "Epoch 00012: val_loss did not improve\n",
      "44s - loss: 1.0119 - acc: 0.6583 - val_loss: 0.9581 - val_acc: 0.6826\n",
      "Epoch 14/100\n",
      "Epoch 00013: val_loss did not improve\n",
      "46s - loss: 1.0283 - acc: 0.6577 - val_loss: 1.0145 - val_acc: 0.6554\n",
      "Epoch 15/100\n",
      "Epoch 00014: val_loss did not improve\n",
      "46s - loss: 1.0379 - acc: 0.6520 - val_loss: 1.3577 - val_acc: 0.6334\n",
      "Epoch 16/100\n",
      "Epoch 00015: val_loss did not improve\n",
      "45s - loss: 1.0587 - acc: 0.6488 - val_loss: 1.0625 - val_acc: 0.6532\n",
      "Epoch 17/100\n",
      "Epoch 00016: val_loss did not improve\n",
      "45s - loss: 1.0683 - acc: 0.6460 - val_loss: 1.1891 - val_acc: 0.6068\n",
      "Epoch 18/100\n",
      "Epoch 00017: val_loss did not improve\n",
      "46s - loss: 1.0912 - acc: 0.6412 - val_loss: 1.0230 - val_acc: 0.6534\n",
      "Epoch 19/100\n",
      "Epoch 00018: val_loss did not improve\n",
      "45s - loss: 1.1079 - acc: 0.6343 - val_loss: 1.3008 - val_acc: 0.6438\n",
      "Epoch 20/100\n",
      "Epoch 00019: val_loss did not improve\n",
      "45s - loss: 1.1351 - acc: 0.6266 - val_loss: 1.3971 - val_acc: 0.5916\n",
      "Epoch 21/100\n",
      "Epoch 00020: val_loss did not improve\n",
      "45s - loss: 1.1459 - acc: 0.6213 - val_loss: 1.1281 - val_acc: 0.6356\n",
      "Epoch 22/100\n",
      "Epoch 00021: val_loss did not improve\n",
      "47s - loss: 1.1645 - acc: 0.6182 - val_loss: 0.9645 - val_acc: 0.6802\n",
      "Epoch 23/100\n",
      "Epoch 00022: val_loss did not improve\n",
      "48s - loss: 1.1847 - acc: 0.6107 - val_loss: 1.6229 - val_acc: 0.5422\n",
      "Epoch 24/100\n",
      "Epoch 00023: val_loss did not improve\n",
      "48s - loss: 1.2134 - acc: 0.6013 - val_loss: 1.0596 - val_acc: 0.6740\n",
      "Epoch 25/100\n",
      "Epoch 00024: val_loss did not improve\n",
      "48s - loss: 1.2266 - acc: 0.5973 - val_loss: 1.0868 - val_acc: 0.6338\n",
      "Epoch 26/100\n",
      "Epoch 00025: val_loss did not improve\n",
      "47s - loss: 1.2417 - acc: 0.5929 - val_loss: 1.3386 - val_acc: 0.6050\n",
      "Epoch 27/100\n",
      "Epoch 00026: val_loss did not improve\n",
      "47s - loss: 1.2616 - acc: 0.5866 - val_loss: 1.0977 - val_acc: 0.6378\n",
      "Epoch 28/100\n",
      "Epoch 00027: val_loss did not improve\n",
      "48s - loss: 1.2595 - acc: 0.5871 - val_loss: 1.4331 - val_acc: 0.5470\n",
      "Epoch 29/100\n",
      "Epoch 00028: val_loss did not improve\n",
      "46s - loss: 1.2814 - acc: 0.5810 - val_loss: 1.2314 - val_acc: 0.5864\n",
      "Epoch 30/100\n",
      "Epoch 00029: val_loss did not improve\n",
      "48s - loss: 1.2993 - acc: 0.5736 - val_loss: 1.1711 - val_acc: 0.5830\n",
      "Epoch 31/100\n",
      "Epoch 00030: val_loss did not improve\n",
      "44s - loss: 1.3270 - acc: 0.5639 - val_loss: 1.1605 - val_acc: 0.5946\n",
      "Epoch 32/100\n",
      "Epoch 00031: val_loss did not improve\n",
      "43s - loss: 1.3165 - acc: 0.5673 - val_loss: 1.1726 - val_acc: 0.5772\n",
      "Epoch 33/100\n",
      "Epoch 00032: val_loss did not improve\n",
      "43s - loss: 1.3445 - acc: 0.5564 - val_loss: 1.4146 - val_acc: 0.5166\n",
      "Epoch 34/100\n",
      "Epoch 00033: val_loss did not improve\n",
      "43s - loss: 1.3560 - acc: 0.5543 - val_loss: 1.2099 - val_acc: 0.6204\n",
      "Epoch 35/100\n",
      "Epoch 00034: val_loss did not improve\n",
      "43s - loss: 1.3592 - acc: 0.5510 - val_loss: 2.5331 - val_acc: 0.3382\n",
      "Epoch 36/100\n",
      "Epoch 00035: val_loss did not improve\n",
      "43s - loss: 1.3793 - acc: 0.5461 - val_loss: 1.3673 - val_acc: 0.5836\n",
      "Epoch 37/100\n",
      "Epoch 00036: val_loss did not improve\n",
      "43s - loss: 1.4075 - acc: 0.5363 - val_loss: 1.3487 - val_acc: 0.5432\n",
      "Epoch 38/100\n",
      "Epoch 00037: val_loss did not improve\n",
      "42s - loss: 1.4162 - acc: 0.5334 - val_loss: 1.2665 - val_acc: 0.6028\n",
      "Epoch 39/100\n",
      "Epoch 00038: val_loss did not improve\n",
      "42s - loss: 1.4310 - acc: 0.5284 - val_loss: 1.1718 - val_acc: 0.6090\n",
      "Epoch 40/100\n",
      "Epoch 00039: val_loss did not improve\n",
      "42s - loss: 1.4222 - acc: 0.5270 - val_loss: 2.0921 - val_acc: 0.3654\n",
      "Epoch 41/100\n",
      "Epoch 00040: val_loss did not improve\n",
      "42s - loss: 1.4362 - acc: 0.5270 - val_loss: 1.4615 - val_acc: 0.4790\n",
      "Epoch 42/100\n",
      "Epoch 00041: val_loss did not improve\n",
      "42s - loss: 1.4622 - acc: 0.5196 - val_loss: 1.4647 - val_acc: 0.5014\n",
      "Epoch 43/100\n",
      "Epoch 00042: val_loss did not improve\n",
      "42s - loss: 1.4851 - acc: 0.5099 - val_loss: 1.1935 - val_acc: 0.5838\n",
      "Epoch 44/100\n",
      "Epoch 00043: val_loss did not improve\n",
      "43s - loss: 1.4837 - acc: 0.5065 - val_loss: 1.9254 - val_acc: 0.4330\n",
      "Epoch 45/100\n",
      "Epoch 00044: val_loss did not improve\n",
      "42s - loss: 1.5060 - acc: 0.5023 - val_loss: 1.3154 - val_acc: 0.5078\n",
      "Epoch 46/100\n",
      "Epoch 00045: val_loss did not improve\n",
      "42s - loss: 1.5159 - acc: 0.4939 - val_loss: 1.7346 - val_acc: 0.4384\n",
      "Epoch 47/100\n",
      "Epoch 00046: val_loss did not improve\n",
      "42s - loss: 1.5150 - acc: 0.4957 - val_loss: 1.3007 - val_acc: 0.5536\n",
      "Epoch 48/100\n",
      "Epoch 00047: val_loss did not improve\n",
      "42s - loss: 1.5156 - acc: 0.4925 - val_loss: 1.4538 - val_acc: 0.5066\n",
      "Epoch 49/100\n",
      "Epoch 00048: val_loss did not improve\n",
      "42s - loss: 1.5215 - acc: 0.4890 - val_loss: 1.6455 - val_acc: 0.5392\n",
      "Epoch 50/100\n",
      "Epoch 00049: val_loss did not improve\n",
      "42s - loss: 1.5441 - acc: 0.4850 - val_loss: 1.6902 - val_acc: 0.3662\n",
      "Epoch 51/100\n",
      "Epoch 00050: val_loss did not improve\n",
      "42s - loss: 1.5423 - acc: 0.4869 - val_loss: 1.7863 - val_acc: 0.3926\n",
      "Epoch 52/100\n",
      "Epoch 00051: val_loss did not improve\n",
      "42s - loss: 1.5447 - acc: 0.4846 - val_loss: 1.4230 - val_acc: 0.4518\n",
      "Epoch 53/100\n",
      "Epoch 00052: val_loss did not improve\n",
      "42s - loss: 1.5637 - acc: 0.4750 - val_loss: 1.2760 - val_acc: 0.5612\n",
      "Epoch 54/100\n",
      "Epoch 00053: val_loss did not improve\n",
      "42s - loss: 1.5713 - acc: 0.4792 - val_loss: 1.4250 - val_acc: 0.4986\n",
      "Epoch 55/100\n",
      "Epoch 00054: val_loss did not improve\n",
      "42s - loss: 1.5516 - acc: 0.4767 - val_loss: 1.3632 - val_acc: 0.5462\n",
      "Epoch 56/100\n",
      "Epoch 00055: val_loss did not improve\n",
      "42s - loss: 1.5536 - acc: 0.4785 - val_loss: 1.3064 - val_acc: 0.5418\n",
      "Epoch 57/100\n",
      "Epoch 00056: val_loss did not improve\n",
      "42s - loss: 1.5601 - acc: 0.4754 - val_loss: 1.2603 - val_acc: 0.5566\n",
      "Epoch 58/100\n",
      "Epoch 00057: val_loss did not improve\n",
      "43s - loss: 1.5531 - acc: 0.4746 - val_loss: 1.6983 - val_acc: 0.4372\n",
      "Epoch 59/100\n",
      "Epoch 00058: val_loss did not improve\n",
      "42s - loss: 1.5673 - acc: 0.4744 - val_loss: 1.3282 - val_acc: 0.5298\n",
      "Epoch 60/100\n",
      "Epoch 00059: val_loss did not improve\n",
      "42s - loss: 1.5686 - acc: 0.4726 - val_loss: 1.3505 - val_acc: 0.5142\n",
      "Epoch 61/100\n",
      "Epoch 00060: val_loss did not improve\n",
      "42s - loss: 1.5992 - acc: 0.4649 - val_loss: 1.4933 - val_acc: 0.4400\n",
      "Epoch 62/100\n",
      "Epoch 00061: val_loss did not improve\n",
      "42s - loss: 1.6096 - acc: 0.4587 - val_loss: 1.5649 - val_acc: 0.4874\n",
      "Epoch 63/100\n",
      "Epoch 00062: val_loss did not improve\n",
      "42s - loss: 1.6162 - acc: 0.4557 - val_loss: 1.3758 - val_acc: 0.5224\n",
      "Epoch 64/100\n",
      "Epoch 00063: val_loss did not improve\n",
      "42s - loss: 1.6064 - acc: 0.4586 - val_loss: 1.4788 - val_acc: 0.4986\n",
      "Epoch 65/100\n",
      "Epoch 00064: val_loss did not improve\n",
      "42s - loss: 1.6122 - acc: 0.4571 - val_loss: 1.5634 - val_acc: 0.4364\n",
      "Epoch 66/100\n",
      "Epoch 00065: val_loss did not improve\n",
      "42s - loss: 1.6329 - acc: 0.4526 - val_loss: 1.4371 - val_acc: 0.4900\n",
      "Epoch 67/100\n",
      "Epoch 00066: val_loss did not improve\n",
      "42s - loss: 1.6206 - acc: 0.4513 - val_loss: 1.9952 - val_acc: 0.4454\n",
      "Epoch 68/100\n",
      "Epoch 00067: val_loss did not improve\n",
      "42s - loss: 1.6122 - acc: 0.4506 - val_loss: 1.4535 - val_acc: 0.4838\n",
      "Epoch 69/100\n",
      "Epoch 00068: val_loss did not improve\n",
      "42s - loss: 1.6266 - acc: 0.4530 - val_loss: 2.1108 - val_acc: 0.3810\n",
      "Epoch 70/100\n",
      "Epoch 00069: val_loss did not improve\n",
      "42s - loss: 1.6284 - acc: 0.4522 - val_loss: 1.4377 - val_acc: 0.5036\n",
      "Epoch 71/100\n",
      "Epoch 00070: val_loss did not improve\n",
      "42s - loss: 1.6382 - acc: 0.4480 - val_loss: 1.3850 - val_acc: 0.5118\n",
      "Epoch 72/100\n",
      "Epoch 00071: val_loss did not improve\n",
      "42s - loss: 1.6613 - acc: 0.4430 - val_loss: 3.3328 - val_acc: 0.3550\n",
      "Epoch 73/100\n",
      "Epoch 00072: val_loss did not improve\n",
      "42s - loss: 1.6652 - acc: 0.4380 - val_loss: 1.3918 - val_acc: 0.5008\n",
      "Epoch 74/100\n",
      "Epoch 00073: val_loss did not improve\n",
      "42s - loss: 1.6696 - acc: 0.4365 - val_loss: 1.6672 - val_acc: 0.4390\n",
      "Epoch 75/100\n",
      "Epoch 00074: val_loss did not improve\n",
      "42s - loss: 1.6938 - acc: 0.4275 - val_loss: 1.5377 - val_acc: 0.4122\n",
      "Epoch 76/100\n",
      "Epoch 00075: val_loss did not improve\n",
      "42s - loss: 1.7053 - acc: 0.4250 - val_loss: 1.8596 - val_acc: 0.4688\n",
      "Epoch 77/100\n",
      "Epoch 00076: val_loss did not improve\n",
      "42s - loss: 1.7047 - acc: 0.4299 - val_loss: 1.3336 - val_acc: 0.5320\n",
      "Epoch 78/100\n",
      "Epoch 00077: val_loss did not improve\n",
      "42s - loss: 1.7359 - acc: 0.4185 - val_loss: 1.5931 - val_acc: 0.4196\n",
      "Epoch 79/100\n",
      "Epoch 00078: val_loss did not improve\n",
      "42s - loss: 1.7524 - acc: 0.4141 - val_loss: 1.4495 - val_acc: 0.4946\n",
      "Epoch 80/100\n",
      "Epoch 00079: val_loss did not improve\n",
      "42s - loss: 1.7721 - acc: 0.4096 - val_loss: 1.4788 - val_acc: 0.4876\n",
      "Epoch 81/100\n",
      "Epoch 00080: val_loss did not improve\n",
      "42s - loss: 1.7515 - acc: 0.4080 - val_loss: 1.5366 - val_acc: 0.3948\n",
      "Epoch 82/100\n",
      "Epoch 00081: val_loss did not improve\n",
      "42s - loss: 1.7638 - acc: 0.4062 - val_loss: 1.5251 - val_acc: 0.4330\n",
      "Epoch 83/100\n",
      "Epoch 00082: val_loss did not improve\n",
      "42s - loss: 1.7617 - acc: 0.4029 - val_loss: 3.1352 - val_acc: 0.3038\n",
      "Epoch 84/100\n",
      "Epoch 00083: val_loss did not improve\n",
      "42s - loss: 1.7718 - acc: 0.4051 - val_loss: 1.6154 - val_acc: 0.4660\n",
      "Epoch 85/100\n",
      "Epoch 00084: val_loss did not improve\n",
      "42s - loss: 1.7798 - acc: 0.4041 - val_loss: 1.4469 - val_acc: 0.4896\n",
      "Epoch 86/100\n",
      "Epoch 00085: val_loss did not improve\n",
      "42s - loss: 1.7787 - acc: 0.3992 - val_loss: 1.4576 - val_acc: 0.4584\n",
      "Epoch 87/100\n",
      "Epoch 00086: val_loss did not improve\n",
      "42s - loss: 1.7665 - acc: 0.3980 - val_loss: 1.4214 - val_acc: 0.5016\n",
      "Epoch 88/100\n",
      "Epoch 00087: val_loss did not improve\n",
      "42s - loss: 1.7765 - acc: 0.3983 - val_loss: 1.4393 - val_acc: 0.4704\n",
      "Epoch 89/100\n",
      "Epoch 00088: val_loss did not improve\n",
      "42s - loss: 1.7799 - acc: 0.3890 - val_loss: 1.8360 - val_acc: 0.4006\n",
      "Epoch 90/100\n",
      "Epoch 00089: val_loss did not improve\n",
      "43s - loss: 1.7914 - acc: 0.3892 - val_loss: 1.8335 - val_acc: 0.4108\n",
      "Epoch 91/100\n",
      "Epoch 00090: val_loss did not improve\n",
      "45s - loss: 1.8206 - acc: 0.3805 - val_loss: 1.5489 - val_acc: 0.4618\n",
      "Epoch 92/100\n",
      "Epoch 00091: val_loss did not improve\n",
      "43s - loss: 1.8174 - acc: 0.3829 - val_loss: 1.7503 - val_acc: 0.3586\n",
      "Epoch 93/100\n",
      "Epoch 00092: val_loss did not improve\n",
      "42s - loss: 1.8106 - acc: 0.3821 - val_loss: 2.0548 - val_acc: 0.3082\n",
      "Epoch 94/100\n",
      "Epoch 00093: val_loss did not improve\n",
      "42s - loss: 1.8236 - acc: 0.3758 - val_loss: 1.5837 - val_acc: 0.4886\n",
      "Epoch 95/100\n",
      "Epoch 00094: val_loss did not improve\n",
      "42s - loss: 1.8356 - acc: 0.3752 - val_loss: 1.7602 - val_acc: 0.3754\n",
      "Epoch 96/100\n",
      "Epoch 00095: val_loss did not improve\n",
      "42s - loss: 1.8491 - acc: 0.3690 - val_loss: 6.5558 - val_acc: 0.2902\n",
      "Epoch 97/100\n",
      "Epoch 00096: val_loss did not improve\n",
      "42s - loss: 1.8305 - acc: 0.3772 - val_loss: 4.1868 - val_acc: 0.2442\n",
      "Epoch 98/100\n",
      "Epoch 00097: val_loss did not improve\n",
      "42s - loss: 1.8324 - acc: 0.3729 - val_loss: 1.9495 - val_acc: 0.3708\n",
      "Epoch 99/100\n",
      "Epoch 00098: val_loss did not improve\n",
      "40s - loss: 1.8344 - acc: 0.3741 - val_loss: 1.7250 - val_acc: 0.3536\n",
      "Epoch 100/100\n",
      "Epoch 00099: val_loss did not improve\n",
      "23s - loss: 1.8278 - acc: 0.3676 - val_loss: 1.6366 - val_acc: 0.3800\n"
     ]
    },
    {
     "data": {
      "text/plain": [
       "<keras.callbacks.History at 0x11d13fc88>"
      ]
     },
     "execution_count": 7,
     "metadata": {},
     "output_type": "execute_result"
    }
   ],
   "source": [
    "from keras.callbacks import ModelCheckpoint   \n",
    "\n",
    "# train the model\n",
    "checkpointer = ModelCheckpoint(filepath='model.weights.best.hdf5', verbose=1, \n",
    "                               save_best_only=True)\n",
    "hist = model.fit(x_train, y_train, batch_size=32, epochs=100,\n",
    "          validation_data=(x_valid, y_valid), callbacks=[checkpointer], \n",
    "          verbose=2, shuffle=True)"
   ]
  },
  {
   "cell_type": "markdown",
   "metadata": {
    "deletable": true,
    "editable": true
   },
   "source": [
    "### 8. Load the Model with the Best Validation Accuracy"
   ]
  },
  {
   "cell_type": "code",
   "execution_count": 8,
   "metadata": {
    "collapsed": true,
    "deletable": true,
    "editable": true
   },
   "outputs": [],
   "source": [
    "# load the weights that yielded the best validation accuracy\n",
    "model.load_weights('model.weights.best.hdf5')"
   ]
  },
  {
   "cell_type": "markdown",
   "metadata": {
    "deletable": true,
    "editable": true
   },
   "source": [
    "### 9. Calculate Classification Accuracy on Test Set"
   ]
  },
  {
   "cell_type": "code",
   "execution_count": 9,
   "metadata": {
    "collapsed": false,
    "deletable": true,
    "editable": true
   },
   "outputs": [
    {
     "name": "stdout",
     "output_type": "stream",
     "text": [
      "\n",
      " Test accuracy: 0.6598\n"
     ]
    }
   ],
   "source": [
    "# evaluate and print test accuracy\n",
    "score = model.evaluate(x_test, y_test, verbose=0)\n",
    "print('\\n', 'Test accuracy:', score[1])"
   ]
  }
 ],
 "metadata": {
  "kernelspec": {
   "display_name": "Python 3",
   "language": "python",
   "name": "python3"
  },
  "language_info": {
   "codemirror_mode": {
    "name": "ipython",
    "version": 3
   },
   "file_extension": ".py",
   "mimetype": "text/x-python",
   "name": "python",
   "nbconvert_exporter": "python",
   "pygments_lexer": "ipython3",
   "version": "3.5.3"
  }
 },
 "nbformat": 4,
 "nbformat_minor": 2
}
